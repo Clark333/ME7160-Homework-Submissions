{
 "cells": [
  {
   "cell_type": "markdown",
   "metadata": {},
   "source": [
    "# Nonlinear Dynamics and Oscillations: Homework #1\n",
    "Daniel L. Clark"
   ]
  },
  {
   "cell_type": "markdown",
   "metadata": {},
   "source": [
    "## Problem number 1\n",
    "### Problem 1A \n",
    "Solution:\n",
    "    $x(t) = 5e^{-t}$\n",
    "\n",
    "Time constant = $\\tau$ = 1\n",
    "\n",
    "Settling time = 5$\\tau$ = 5\n",
    "    "
   ]
  },
  {
   "cell_type": "code",
   "execution_count": null,
   "metadata": {
    "collapsed": false
   },
   "outputs": [],
   "source": [
    "%matplotlib inline\n",
    "import pylab as pl\n",
    "import numpy as np\n",
    "import cmath as cmath\n",
    "from matplotlib.legend_handler import HandlerLine2D\n",
    "\n",
    "t = np.linspace(0, 5, 256, endpoint=True)\n",
    "x = 5*np.exp(-1*t)\n",
    "\n",
    "pl.figure(figsize=(15,10))\n",
    "pl.plot(t, x)\n",
    "pl.xlabel('t', fontsize=30)\n",
    "pl.ylabel('x(t)', fontsize=30)\n",
    "pl.grid()\n",
    "pl.show()\n",
    "\n"
   ]
  },
  {
   "cell_type": "markdown",
   "metadata": {},
   "source": [
    "### Problem 1B \n",
    "Solution:\n",
    "    $x(t) = Ae^{-\\zeta w_n t} sin(w_d t + \\phi)$\n",
    "\n",
    "natural frequency = $\\sqrt{\\frac{k}{m}}$ = 3.16227766017\n",
    "\n",
    "damping ratio = $\\zeta$ = $ \\frac{c}{\\sqrt{km}}$ = 0.0316227766017\n",
    "\n",
    "Time constant = $\\tau$ = $\\frac{2\\pi}{\\omega_n}$ = 1.98691765316\n",
    "\n",
    "Settling time = 5$\\tau$ = 9.9345882658\n"
   ]
  },
  {
   "cell_type": "code",
   "execution_count": null,
   "metadata": {
    "collapsed": false
   },
   "outputs": [],
   "source": [
    "t = np.linspace(0, 50, 500, endpoint=True)\n",
    "m,c,k = 10,1,100\n",
    "x0,v0 = 5,2\n",
    "\n",
    "wn = np.sqrt(k/m)\n",
    "tau = (2*np.pi)/wn\n",
    "dRatio = c / np.sqrt(k*m)\n",
    "\n",
    "print(wn)\n",
    "print(tau)\n",
    "print(tau*5)\n",
    "print(dRatio)\n",
    "\n",
    "wd=wn*np.sqrt(1-(np.power(dRatio,2)))\n",
    "phi = np.arctan((x0*wd)/(v0+dRatio*wn*x0))\n",
    "A = np.sqrt( ( np.power((v0+dRatio*wn*x0),2) + np.power((x0*wd),2)  ) / np.power(wd,2) )\n",
    "\n",
    "x = A*np.exp(-1*dRatio*wn*t)*np.sin(wd*t+phi)\n",
    "\n",
    "pl.figure(figsize=(15,10))\n",
    "pl.plot(t, x)\n",
    "pl.xlabel('t', fontsize=30)\n",
    "pl.ylabel('x(t)', fontsize=30)\n",
    "pl.grid()\n",
    "pl.show()"
   ]
  },
  {
   "cell_type": "markdown",
   "metadata": {},
   "source": []
  },
  {
   "cell_type": "markdown",
   "metadata": {
    "collapsed": true
   },
   "source": [
    "### Problem 1C\n",
    "Solution:\n",
    "    $x(t) = 4/5 e^{-10t}+ 1/5$\n",
    "    \n",
    "\n",
    "Time constant = $\\tau$ = $\\frac{1}{10}$ = .100\n",
    "\n",
    "Settling time = 5$\\tau$ = .500"
   ]
  },
  {
   "cell_type": "code",
   "execution_count": null,
   "metadata": {
    "collapsed": false
   },
   "outputs": [],
   "source": [
    "%matplotlib inline\n",
    "import pylab as pl\n",
    "import numpy as np\n",
    "\n",
    "t = np.linspace(0, 1, 256, endpoint=True)\n",
    "x = 4/5*np.exp(-10*t) + 1/5\n",
    "\n",
    "pl.figure(figsize=(15,10))\n",
    "pl.plot(t, x)\n",
    "pl.xlabel('t', fontsize=30)\n",
    "pl.ylabel('x(t)', fontsize=30)\n",
    "pl.grid()\n",
    "pl.show()\n",
    "\n"
   ]
  },
  {
   "cell_type": "markdown",
   "metadata": {},
   "source": [
    "### Problem 1D\n",
    "Solution:\n",
    "    $x(t) = C_{1}e^{\\lambda_1 t}$ + $C_{2}e^{\\lambda_2 t}$;\n",
    "    $\\lambda_1 = \\frac{-2 + \\sqrt{-3900}}{20}$,\n",
    "    $\\lambda_2 = \\frac{-2 - \\sqrt{-3900}}{20}$\n",
    "    \n",
    "natural frequency = $\\sqrt{\\frac{k}{m}}$ = 3.16227766017\n",
    "\n",
    "damping ratio = $\\zeta$ = $ \\frac{c}{\\sqrt{km}}$ = 0.0316227766017\n",
    "\n",
    "Time constant = $\\tau$ = $\\frac{2\\pi}{\\omega_n}$ = 1.98691765316\n",
    "\n",
    "Settling time = 5$\\tau$ = 9.9345882658"
   ]
  },
  {
   "cell_type": "code",
   "execution_count": null,
   "metadata": {
    "collapsed": false
   },
   "outputs": [],
   "source": [
    "t = np.linspace(0, 10, 500, endpoint=True)\n",
    "m,c,k = 10,2,100\n",
    "x0,v0 = 0,0\n",
    "F = 200\n",
    "\n",
    "wn = np.sqrt(k/m)\n",
    "tau = (2*np.pi)/wn\n",
    "dRatio = c / cmath.sqrt(k*m)\n",
    "\n",
    "print(wn)\n",
    "print(tau)\n",
    "print(tau*5)\n",
    "print(dRatio)\n",
    "\n",
    "lambda1 = (-2+cmath.sqrt(-3900))/20\n",
    "lambda2 = (-2-cmath.sqrt(-3900))/20\n",
    "\n",
    "a1 = -1.02459016393442 + 0.0328131462715341j\n",
    "a2 = -1.02459016393443 - 0.0328131462715343j\n",
    "k = 2.04918032786885 - 4.19578373657384e-19j\n",
    "\n",
    "x = a1*np.exp(lambda1*t) + a2*np.exp(lambda2*t)\n",
    "\n",
    "\n",
    "pl.figure(figsize=(15,10))\n",
    "pl.plot(t, x)\n",
    "pl.xlabel('t')\n",
    "pl.ylabel('x')\n",
    "pl.grid()\n",
    "pl.show()\n"
   ]
  },
  {
   "cell_type": "markdown",
   "metadata": {},
   "source": [
    "## Problem number 2\n",
    "### Problem 2A \n",
    "Solution:\n",
    "    $x(t) = C_{1}e^{-10t}$\n",
    "    \n",
    "The system is stable"
   ]
  },
  {
   "cell_type": "code",
   "execution_count": null,
   "metadata": {
    "collapsed": false
   },
   "outputs": [],
   "source": [
    "t = np.linspace(0, 1, 256, endpoint=True)\n",
    "x_c1_1 = 1*np.exp(-10*t)\n",
    "x_c1_5 = 5*np.exp(-10*t)\n",
    "\n",
    "pl.figure(figsize=(15,10))\n",
    "line1, = pl.plot(t, x_c1_1, label='$C_1 = 1$')\n",
    "line2, = pl.plot(t, x_c1_5, label='$C_1 = 5$')\n",
    "pl.xlabel('t', fontsize=30)\n",
    "pl.ylabel('x(t)', fontsize=30)\n",
    "pl.title('Free Response Changing Initial Conditions', fontsize=30)\n",
    "pl.grid()\n",
    "pl.legend(handler_map={line1: HandlerLine2D(numpoints=4)},prop={'size':25})\n",
    "pl.show()"
   ]
  },
  {
   "cell_type": "code",
   "execution_count": null,
   "metadata": {
    "collapsed": false
   },
   "outputs": [],
   "source": [
    "#Plot the roots on the complex plane\n",
    "pl.figure(figsize=(15,5))\n",
    "pl.plot(-10, 0,'r.',ms=30)\n",
    "pl.plot([-15,5],[0,0],'k--')\n",
    "pl.plot([0,0],[-5,5],'k--')\n",
    "pl.xlabel('Real', fontsize=30)\n",
    "pl.ylabel('Imaginary', fontsize=30)\n",
    "pl.title('Complex Plane', fontsize=30)\n",
    "pl.grid()\n",
    "pl.show()"
   ]
  },
  {
   "cell_type": "markdown",
   "metadata": {},
   "source": [
    "### Problem 2B \n",
    "Solution:\n",
    "    $x(t) = C_{1}e^{10t}$\n",
    "    \n",
    "The system is unstable. Its instability is classified as divergent."
   ]
  },
  {
   "cell_type": "code",
   "execution_count": null,
   "metadata": {
    "collapsed": false
   },
   "outputs": [],
   "source": [
    "t = np.linspace(0, 1, 256, endpoint=True)\n",
    "x_c1_1 = 1*np.exp(10*t)\n",
    "x_c1_5 = 5*np.exp(10*t)\n",
    "\n",
    "pl.figure(figsize=(15,10))\n",
    "line1, = pl.plot(t, x_c1_1, label='$C_1 = 1$')\n",
    "pl.plot(t, x_c1_5, label='$C_1 = 5$')\n",
    "pl.xlabel('t', fontsize=30)\n",
    "pl.ylabel('x(t)', fontsize=30)\n",
    "pl.title('Free Response Changing Initial Conditions', fontsize=30)\n",
    "pl.grid()\n",
    "pl.legend(handler_map={line1: HandlerLine2D(numpoints=4)},prop={'size':25})\n",
    "pl.show()"
   ]
  },
  {
   "cell_type": "code",
   "execution_count": null,
   "metadata": {
    "collapsed": false
   },
   "outputs": [],
   "source": [
    "#Plot the roots on the complex plane\n",
    "pl.figure(figsize=(15,5))\n",
    "pl.plot(10, 0,'r.',ms=30)\n",
    "pl.plot([-5,15],[0,0],'k--')\n",
    "pl.plot([0,0],[-5,5],'k--')\n",
    "pl.xlabel('Real', fontsize=30)\n",
    "pl.ylabel('Imaginary', fontsize=30)\n",
    "pl.title('Complex Plane', fontsize=30)\n",
    "pl.grid()\n",
    "pl.show()"
   ]
  },
  {
   "cell_type": "markdown",
   "metadata": {},
   "source": [
    "### Problem 2C \n",
    "Solution:\n",
    "    $x(t) = C_{1}e^{-10t}$\n",
    "\n",
    "The system is stable"
   ]
  },
  {
   "cell_type": "code",
   "execution_count": null,
   "metadata": {
    "collapsed": false
   },
   "outputs": [],
   "source": [
    "t = np.linspace(0, 1, 256, endpoint=True)\n",
    "x_c1_1 = 1*np.exp(-10*t)\n",
    "x_c1_5 = 5*np.exp(-10*t)\n",
    "\n",
    "pl.figure(figsize=(15,10))\n",
    "line1, = pl.plot(t, x_c1_1, label='$C_1 = 1$')\n",
    "pl.plot(t, x_c1_5, label='$C_1 = 5$')\n",
    "pl.xlabel('t', fontsize=30)\n",
    "pl.ylabel('x(t)', fontsize=30)\n",
    "pl.title('Free Response Changing Initial Conditions', fontsize=30)\n",
    "pl.grid()\n",
    "pl.legend(handler_map={line1: HandlerLine2D(numpoints=4)},prop={'size':25})\n",
    "pl.show()"
   ]
  },
  {
   "cell_type": "code",
   "execution_count": null,
   "metadata": {
    "collapsed": false
   },
   "outputs": [],
   "source": [
    "#Plot the roots on the complex plane\n",
    "pl.figure(figsize=(15,5))\n",
    "pl.plot(-10, 0,'r.',ms=30)\n",
    "pl.plot([-15,5],[0,0],'k--')\n",
    "pl.plot([0,0],[-5,5],'k--')\n",
    "pl.xlabel('Real', fontsize=30)\n",
    "pl.ylabel('Imaginary', fontsize=30)\n",
    "pl.title('Complex Plane', fontsize=30)\n",
    "pl.grid()\n",
    "pl.show()"
   ]
  },
  {
   "cell_type": "markdown",
   "metadata": {},
   "source": [
    "### Problem 2D\n",
    "Solution:\n",
    "    $x(t) = C_{1}e^{10t}$\n",
    "    \n",
    "The system is unstable. Its instability is classified as divergent."
   ]
  },
  {
   "cell_type": "code",
   "execution_count": null,
   "metadata": {
    "collapsed": false
   },
   "outputs": [],
   "source": [
    "t = np.linspace(0, 1, 256, endpoint=True)\n",
    "x_c1_1 = 1*np.exp(10*t)\n",
    "x_c1_5 = 5*np.exp(10*t)\n",
    "\n",
    "pl.figure(figsize=(15,10))\n",
    "line1, = pl.plot(t, x_c1_1, label='$C_1 = 1$')\n",
    "pl.plot(t, x_c1_5, label='$C_1 = 5$')\n",
    "pl.xlabel('t', fontsize=30)\n",
    "pl.ylabel('x(t)', fontsize=30)\n",
    "pl.title('Free Response Changing Initial Conditions', fontsize=30)\n",
    "pl.grid()\n",
    "pl.legend(handler_map={line1: HandlerLine2D(numpoints=4)},prop={'size':25})\n",
    "pl.show()"
   ]
  },
  {
   "cell_type": "code",
   "execution_count": null,
   "metadata": {
    "collapsed": false
   },
   "outputs": [],
   "source": [
    "#Plot the roots on the complex plane\n",
    "pl.figure(figsize=(15,5))\n",
    "pl.plot(10, 0,'r.',ms=30)\n",
    "pl.plot([-5,15],[0,0],'k--')\n",
    "pl.plot([0,0],[-5,5],'k--')\n",
    "pl.xlabel('Real', fontsize=30)\n",
    "pl.ylabel('Imaginary', fontsize=30)\n",
    "pl.title('Complex Plane', fontsize=30)\n",
    "pl.grid()\n",
    "pl.show()"
   ]
  },
  {
   "cell_type": "markdown",
   "metadata": {},
   "source": [
    "### Problem 2E\n",
    "Solution:\n",
    "    The system is unstable. Its instability is classified as flutter.\n",
    "    "
   ]
  },
  {
   "cell_type": "code",
   "execution_count": null,
   "metadata": {
    "collapsed": false
   },
   "outputs": [],
   "source": [
    "t = np.linspace(0, 5, 500, endpoint=True)\n",
    "m,c,k = 1,-1,100\n",
    "\n",
    "wn = np.sqrt(k/m)\n",
    "\n",
    "dRatio = c / np.sqrt(k*m)\n",
    "wd=wn*cmath.sqrt(1-(np.power(dRatio,2)))\n",
    "\n",
    "\n",
    "lambda1 = -dRatio*wn + wn *cmath.sqrt( np.power(dRatio,2) - 1)\n",
    "lambda2 = -dRatio*wn - wn *cmath.sqrt( np.power(dRatio,2) - 1)\n",
    "\n",
    "print(lambda1, lambda2)\n",
    "\n",
    "print(wn,dRatio,wd)\n",
    "\n",
    "x0,v0 = -1,1\n",
    "phi = np.arctan((x0*wd)/(v0+dRatio*wn*x0))\n",
    "A = np.sqrt( ( np.power((v0+dRatio*wn*x0),2) + np.power((x0*wd),2)  ) / np.power(wd,2) )\n",
    "x_1 = A*np.exp(-1*dRatio*wn*t)*np.sin(wd*t+phi)\n",
    "\n",
    "x0,v0 = 1,4\n",
    "phi = np.arctan((x0*wd)/(v0+dRatio*wn*x0))\n",
    "A = np.sqrt( ( np.power((v0+dRatio*wn*x0),2) + np.power((x0*wd),2)  ) / np.power(wd,2) )\n",
    "x_2 = A*np.exp(-1*dRatio*wn*t)*np.sin(wd*t+phi)\n",
    "\n",
    "pl.figure(figsize=(15,10))\n",
    "line1, = pl.plot(t, x_1, label='$x_0 = -1, v_0 = 1$')\n",
    "pl.plot(t, x_2, label='$x_0 = -10, v_0 = 4$')\n",
    "pl.xlabel('t', fontsize=30)\n",
    "pl.ylabel('x(t)', fontsize=30)\n",
    "pl.title('Free Response Changing Initial Conditions', fontsize=30)\n",
    "pl.grid()\n",
    "pl.legend(handler_map={line1: HandlerLine2D(numpoints=4)},prop={'size':25})\n",
    "pl.show()"
   ]
  },
  {
   "cell_type": "code",
   "execution_count": null,
   "metadata": {
    "collapsed": false
   },
   "outputs": [],
   "source": [
    "#Plot the roots on the complex plane\n",
    "pl.figure(figsize=(15,5))\n",
    "# (1+9.94987437107j) (1-9.94987437107j)\n",
    "pl.plot(1, 9.94987437107,'r.',ms=30)\n",
    "pl.plot(1, -9.94987437107,'r.',ms=30)\n",
    "pl.plot([-5,5],[0,0],'k--')\n",
    "pl.plot([0,0],[-11,11],'k--')\n",
    "pl.xlabel('Real', fontsize=30)\n",
    "pl.ylabel('Imaginary', fontsize=30)\n",
    "pl.title('Complex Plane', fontsize=30)\n",
    "pl.grid()\n",
    "pl.show()"
   ]
  },
  {
   "cell_type": "markdown",
   "metadata": {
    "collapsed": true
   },
   "source": [
    "### Problem 2F\n",
    "Solution:\n",
    "    $x(t) = C_{1}e^{\\lambda_1 t}$ + $C_{2}e^{\\lambda_2 t}$;\n",
    "    $\\lambda_1 = \\frac{-1 + \\sqrt{401}}{2}$,\n",
    "    $\\lambda_2 = \\frac{-1 - \\sqrt{401}}{2}$\n",
    "    \n",
    "The system is unstable. Its instability is classified as divergent."
   ]
  },
  {
   "cell_type": "code",
   "execution_count": null,
   "metadata": {
    "collapsed": false
   },
   "outputs": [],
   "source": [
    "t = np.linspace(0, .5, 256, endpoint=True)\n",
    "m,c,k = 1,1,-100\n",
    "\n",
    "lambda1 = (-c+cmath.sqrt(m**2 - 4*m*k)) / (2*m)\n",
    "lambda2 = (-c-cmath.sqrt(m**2 - 4*m*k)) / (2*m)\n",
    "\n",
    "a1 = 1;\n",
    "a2 = 1;\n",
    "\n",
    "x1 = a1*np.exp(lambda1*t) + a2*np.exp(lambda2*t)\n",
    "\n",
    "a1 = 3;\n",
    "a2 = 2;\n",
    "\n",
    "x2 = a1*np.exp(lambda1*t) + a2*np.exp(lambda2*t)\n",
    "\n",
    "pl.figure(figsize=(15,10))\n",
    "line1, = pl.plot(t, x1, label='$a_1 = 1, a_2 = 1$')\n",
    "line2, = pl.plot(t, x2, label='$a_1 = 3, a_2 = 2$')\n",
    "pl.xlabel('t', fontsize=30)\n",
    "pl.ylabel('x(t)', fontsize=30)\n",
    "pl.title('Free Response Changing Initial Conditions', fontsize=30)\n",
    "pl.grid()\n",
    "pl.legend(handler_map={line1: HandlerLine2D(numpoints=4)},prop={'size':25})\n",
    "pl.show()\n",
    "print(lambda1,lambda2)"
   ]
  },
  {
   "cell_type": "code",
   "execution_count": null,
   "metadata": {
    "collapsed": false
   },
   "outputs": [],
   "source": [
    "#Plot the roots on the complex plane\n",
    "pl.figure(figsize=(15,5))\n",
    "pl.plot(9.512492197250394, 0,'r.',ms=30)\n",
    "pl.plot(-10.512492197250394, 0,'r.',ms=30)\n",
    "pl.plot([-11,11],[0,0],'k--')\n",
    "pl.plot([0,0],[-2,2],'k--')\n",
    "pl.xlabel('Real', fontsize=30)\n",
    "pl.ylabel('Imaginary', fontsize=30)\n",
    "pl.title('Complex Plane', fontsize=30)\n",
    "pl.grid()\n",
    "pl.show()"
   ]
  },
  {
   "cell_type": "markdown",
   "metadata": {},
   "source": [
    "### Problem 2G\n",
    "Solution:\n",
    "    $x(t) = C_{1}e^{\\lambda_1 t}$ + $C_{2}e^{\\lambda_2 t}$;\n",
    "    $\\lambda_1 = \\frac{1 + \\sqrt{401}}{2}$,\n",
    "    $\\lambda_2 = \\frac{1 - \\sqrt{401}}{2}$\n",
    "    \n",
    "The system is unstable. Its instability is classified as divergent."
   ]
  },
  {
   "cell_type": "code",
   "execution_count": null,
   "metadata": {
    "collapsed": false
   },
   "outputs": [],
   "source": [
    "t = np.linspace(0, .5, 256, endpoint=True)\n",
    "m,c,k = 1,-1,-100\n",
    "\n",
    "lambda1 = (-c+cmath.sqrt(m**2 - 4*m*k)) / (2*m)\n",
    "lambda2 = (-c-cmath.sqrt(m**2 - 4*m*k)) / (2*m)\n",
    "a1 = 1;\n",
    "a2 = 1;\n",
    "\n",
    "x1 = a1*np.exp(lambda1*t) + a2*np.exp(lambda2*t)\n",
    "\n",
    "a1 = 3;\n",
    "a2 = 2;\n",
    "\n",
    "x2 = a1*np.exp(lambda1*t) + a2*np.exp(lambda2*t)\n",
    "\n",
    "pl.figure(figsize=(15,10))\n",
    "line1, = pl.plot(t, x1, label='$a_1 = 1, a_2 = 1$')\n",
    "line2, = pl.plot(t, x2, label='$a_1 = 3, a_2 = 2$')\n",
    "pl.xlabel('t', fontsize=30)\n",
    "pl.ylabel('x(t)', fontsize=30)\n",
    "pl.title('Free Response Changing Initial Conditions', fontsize=30)\n",
    "pl.grid()\n",
    "pl.legend(handler_map={line1: HandlerLine2D(numpoints=4)},prop={'size':25})\n",
    "pl.show()\n",
    "print(lambda1,lambda2)"
   ]
  },
  {
   "cell_type": "code",
   "execution_count": null,
   "metadata": {
    "collapsed": false
   },
   "outputs": [],
   "source": [
    "#Plot the roots on the complex plane\n",
    "pl.figure(figsize=(15,5))\n",
    "pl.plot(10.512492197250394, 0,'r.',ms=30)\n",
    "pl.plot(-9.512492197250394, 0,'r.',ms=30)\n",
    "pl.plot([-11,11],[0,0],'k--')\n",
    "pl.plot([0,0],[-2,2],'k--')\n",
    "pl.xlabel('Real', fontsize=30)\n",
    "pl.ylabel('Imaginary', fontsize=30)\n",
    "pl.title('Complex Plane', fontsize=30)\n",
    "pl.grid()\n",
    "pl.show()"
   ]
  },
  {
   "cell_type": "markdown",
   "metadata": {},
   "source": [
    "## Problem number 3\n",
    "### Problem 3A \n",
    "Solution:\n",
    "    $x(t) = C_1 e^{-t}$\n",
    "\n",
    "linear system\n",
    "\n",
    "Stable to a point\n",
    "\n",
    "equilibrium point at = (0,0)"
   ]
  },
  {
   "cell_type": "code",
   "execution_count": null,
   "metadata": {
    "collapsed": false
   },
   "outputs": [],
   "source": [
    "t = np.linspace(0, .1, 256, endpoint=True)\n",
    "a = np.linspace(-5,5,20)\n",
    "N = a.shape[0]\n",
    "\n",
    "\n",
    "pl.figure(figsize=(15,10))\n",
    "#pl.axis((-1.4,1.4,-1.2,1.2))\n",
    "for i in range(N):\n",
    "    anow = a[i]\n",
    "    x = anow*np.exp(-t)\n",
    "    v = -anow*np.exp(-t)           \n",
    "    pl.plot(x, v,'-')\n",
    "    #Let's plot '*' at the end of each trajectory.\n",
    "    pl.plot(x[-1],v[-1],'*')\n",
    "pl.grid('on')\n",
    "pl.show()\n"
   ]
  },
  {
   "cell_type": "markdown",
   "metadata": {},
   "source": [
    "### Problem 3B \n",
    "Solution:\n",
    "    Phase portrait shows that the system is stable, indicated by concentric circles about the origin. This is referred to as neutrally stable. The equilibrium point of this system linear system is located at the origin."
   ]
  },
  {
   "cell_type": "code",
   "execution_count": null,
   "metadata": {
    "collapsed": false
   },
   "outputs": [],
   "source": [
    "t = np.linspace(0, 1, 200, endpoint=True)\n",
    "m,c,k = 10,1,200\n",
    "\n",
    "lambda1 = (-c+cmath.sqrt(m**2 - 4*m*k)) / (2*m)\n",
    "lambda2 = (-c-cmath.sqrt(m**2 - 4*m*k)) / (2*m)\n",
    "\n",
    "numx = 10;\n",
    "numv = 10;\n",
    "a1 = np.linspace(-5,5,numx)\n",
    "a2 = np.linspace(-5,5,numv)\n",
    "\n",
    "a10, a20 = np.meshgrid(a1, a2)\n",
    "\n",
    "a10.shape = (numx*numv,1) # Python array trick to reorganize numbers in an array\n",
    "a20.shape = (numx*numv,1) # The matrices are now \"vectors\" (1 column)\n",
    "N = a10.shape[0]\n",
    "K = a20.shape[0]\n",
    "\n",
    "pl.figure(figsize=(15,10))\n",
    "#pl.axis((-1.4,1.4,-1.2,1.2))\n",
    "for i in range(N):\n",
    "    a1now = a10[i]\n",
    "    a2now = a20[i]\n",
    "    x = a1now*np.exp(lambda1*t) + a2now*np.exp(lambda2*t)\n",
    "    v = lambda1*a1now*np.exp(lambda1*t) + lambda2*a2now*np.exp(lambda2*t)         \n",
    "    pl.plot(x, v,'-')\n",
    "    #Let's plot '*' at the end of each trajectory.\n",
    "    pl.plot(x[-1],v[-1],'*')\n",
    "pl.grid('on')\n",
    "pl.show()\n"
   ]
  },
  {
   "cell_type": "markdown",
   "metadata": {
    "collapsed": true
   },
   "source": [
    "### Problem 3C\n",
    "Solution:\n",
    "    Phase portrait shows that the system is stable between $-\\sqrt{2}$ and $\\sqrt{2}$ indicated by the two parallel black lines. Outside of this region the system diverges to positive infinity when x is negative and to negative infinity when x is positive."
   ]
  },
  {
   "cell_type": "code",
   "execution_count": null,
   "metadata": {
    "collapsed": false
   },
   "outputs": [],
   "source": [
    "def RHS(x = np.asarray([1,2])):\n",
    "    return x - 0.5*x**3\n",
    "xall = np.linspace(-20, 20, 100)\n",
    "xdot = RHS(x = xall)\n",
    "pl.figure(figsize=(15,10))\n",
    "pl.plot(xall,xdot)\n",
    "pl.plot([-1*np.sqrt(2), -1*np.sqrt(2)], [4000,-4000], '-k')\n",
    "pl.plot([np.sqrt(2), np.sqrt(2)], [4000,-4000],'-k')\n",
    "\n",
    "pl.xlabel('x(t)', fontsize=20)\n",
    "pl.ylabel('$\\dot{x}$(t)', fontsize=20)\n",
    "pl.grid()"
   ]
  },
  {
   "cell_type": "markdown",
   "metadata": {},
   "source": [
    "## Problem number 4 \n",
    "Discuss how changing the paramters influence the behavior of the system and the stability properties of the system.\n",
    "\n",
    "The parameter $\\mu$ changes the size of the oblong stability boundary centered about the origin. The larger $\\mu$ becomes the larger the stable shape becomes. When $\\mu$ is zero the phase plot shows that the system is stable, indicated by concentric circles about the origin. This is referred to as neutrally stable.\n"
   ]
  },
  {
   "cell_type": "code",
   "execution_count": null,
   "metadata": {
    "collapsed": false,
    "scrolled": false
   },
   "outputs": [],
   "source": [
    "import scipy.integrate as sp\n",
    "Mu = 0\n",
    "\n",
    "def RHS(x = np.asarray([1,2]), Mu=0):\n",
    "    Xdot1 = x[1, :]\n",
    "    Xdot2 = -Mu*(x[0, :]**2 - 1)*x[1, :] - x[0, :]\n",
    "    return Xdot1, Xdot2\n",
    "\n",
    "# plotting information\n",
    "numx = 10\n",
    "numv = 10\n",
    "x1all = np.linspace(-10, 10, numx)\n",
    "x2all = np.linspace(-10, 10, numv)\n",
    "x1, x2 = np.meshgrid(x1all, x2all)\n",
    "x1.shape = (numx*numv,1)\n",
    "x2.shape = (numx*numv,1)\n",
    "x = np.asarray([x1,x2])\n",
    "\n",
    "# Evaluating the function\n",
    "Xdot1, Xdot2 = RHS(x = x, Mu=Mu)\n",
    "\n",
    "pl.figure(figsize=(15,10))\n",
    "pl.quiver(x1, x2, Xdot1, Xdot2)\n",
    "pl.xlabel('x(t)', fontsize=20)\n",
    "pl.ylabel('$\\dot{x}$(t)', fontsize=20)\n",
    "pl.grid()\n",
    "\n",
    "# Plotting some solutions\n",
    "def solve_hw2(max_time=1.0, Mu = 0.0, x0 = np.array([[-1, -.9 , -0.9, -1, -1]]).T, v0 = np.array([[1, 1, .9, 0.9, 1]]).T, plotnow = 1):\n",
    "    def hw2_deriv(x1_x2, t, Mu = Mu):\n",
    "        \"\"\"Compute the time-derivative of a SDOF system.\"\"\"\n",
    "        x1, x2 = x1_x2\n",
    "        #print(x2)\n",
    "        #print(-x1+(Lambda/(a-x1)))\n",
    "        return [x2, -Mu*(x1**2 - 1)*x2-x1]\n",
    "    x0 = np.concatenate((x0, v0), axis = 1)\n",
    "    N = x0.shape[0]\n",
    "    # Solve for the trajectories\n",
    "    t = np.linspace(0, max_time, int(250*max_time))\n",
    "    x_t = np.asarray([sp.odeint(hw2_deriv, x0i, t)\n",
    "                      for x0i in x0])\n",
    "    if plotnow == 1:\n",
    "        #fig = plt.figure()\n",
    "        #plt.axis((-1.4,1.4,-1.2,1.2))\n",
    "        for i in range(N):\n",
    "            x, v = x_t[i,:,:].T\n",
    "            pl.plot(x, v,'-')\n",
    "            #Let's plot '*' at the end of each trajectory.\n",
    "            pl.plot(x[-1],v[-1],'*')\n",
    "        pl.grid('on')\n",
    "    # Just in case we want to pull and plot.\n",
    "    return t, x_t\n",
    "numx = 20\n",
    "numv = 20\n",
    "x = np.linspace(-10, 10, numx)\n",
    "v = np.linspace(-10, 10, numv)\n",
    "x0, v0 = np.meshgrid(x, v)\n",
    "x0.shape = (numx*numv,1) # Python array trick to reorganize numbers in an array\n",
    "v0.shape = (numx*numv,1) # The matrices are now \"vectors\" (1 column)\n",
    "_,_ = solve_hw2(max_time=4, Mu = Mu, x0 = x0, v0 = v0)\n",
    "#pl.axis((-3,3,-3,3))\n",
    "# Showing the plot\n",
    "pl.show()\n"
   ]
  },
  {
   "cell_type": "markdown",
   "metadata": {
    "collapsed": true
   },
   "source": [
    "\n"
   ]
  },
  {
   "cell_type": "code",
   "execution_count": null,
   "metadata": {
    "collapsed": true
   },
   "outputs": [],
   "source": []
  }
 ],
 "metadata": {
  "kernelspec": {
   "display_name": "Python 3",
   "language": "python",
   "name": "python3"
  },
  "language_info": {
   "codemirror_mode": {
    "name": "ipython",
    "version": 3
   },
   "file_extension": ".py",
   "mimetype": "text/x-python",
   "name": "python",
   "nbconvert_exporter": "python",
   "pygments_lexer": "ipython3",
   "version": "3.4.3"
  }
 },
 "nbformat": 4,
 "nbformat_minor": 0
}
